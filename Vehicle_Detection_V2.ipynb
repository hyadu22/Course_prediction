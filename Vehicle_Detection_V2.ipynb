{
  "nbformat": 4,
  "nbformat_minor": 0,
  "metadata": {
    "colab": {
      "name": "Vehicle_Detection_V2.ipynb",
      "provenance": [],
      "authorship_tag": "ABX9TyNDam6rU3TDMjW9sTLo+suc",
      "include_colab_link": true
    },
    "kernelspec": {
      "name": "python3",
      "display_name": "Python 3"
    }
  },
  "cells": [
    {
      "cell_type": "markdown",
      "metadata": {
        "id": "view-in-github",
        "colab_type": "text"
      },
      "source": [
        "<a href=\"https://colab.research.google.com/github/hyadu22/Course_prediction/blob/master/Vehicle_Detection_V2.ipynb\" target=\"_parent\"><img src=\"https://colab.research.google.com/assets/colab-badge.svg\" alt=\"Open In Colab\"/></a>"
      ]
    },
    {
      "cell_type": "code",
      "metadata": {
        "id": "2GZWRrOM9oWF",
        "colab_type": "code",
        "outputId": "81e59d29-12fd-4831-8179-a4b8bf2be5af",
        "colab": {
          "base_uri": "https://localhost:8080/",
          "height": 35
        }
      },
      "source": [
        "import keras\n",
        "from keras.models import Sequential\n",
        "from keras.layers import Dense, Dropout, Flatten\n",
        "from keras.layers import Conv2D, MaxPooling2D\n",
        "from keras.utils import to_categorical\n",
        "from keras.preprocessing import image\n",
        "import numpy as np\n",
        "import pandas as pd\n",
        "import matplotlib.pyplot as plt\n",
        "from sklearn.model_selection import train_test_split\n",
        "from tqdm import tqdm\n",
        "%matplotlib inline"
      ],
      "execution_count": 0,
      "outputs": [
        {
          "output_type": "stream",
          "text": [
            "Using TensorFlow backend.\n"
          ],
          "name": "stderr"
        }
      ]
    },
    {
      "cell_type": "code",
      "metadata": {
        "id": "k-iSbsRi90UT",
        "colab_type": "code",
        "outputId": "722f2022-cbef-4b1f-939d-543b964085aa",
        "colab": {
          "base_uri": "https://localhost:8080/",
          "height": 90
        }
      },
      "source": [
        "from google.colab import drive\n",
        "drive.mount('/content/drive')\n",
        "\n",
        "%cd /content/drive/My\\ Drive/ComputerVision/\n",
        "! ls"
      ],
      "execution_count": 0,
      "outputs": [
        {
          "output_type": "stream",
          "text": [
            "Drive already mounted at /content/drive; to attempt to forcibly remount, call drive.mount(\"/content/drive\", force_remount=True).\n",
            "/content/drive/My Drive/ComputerVision\n",
            "images\t\t       submission1.csv\ttest.csv\n",
            "sample_submission.csv  submission.csv\ttrain.csv\n"
          ],
          "name": "stdout"
        }
      ]
    },
    {
      "cell_type": "code",
      "metadata": {
        "id": "KFKx3xm9-aJW",
        "colab_type": "code",
        "outputId": "7a020323-9501-42f9-b121-3bc37c4e72be",
        "colab": {
          "base_uri": "https://localhost:8080/",
          "height": 146
        }
      },
      "source": [
        "train = pd.read_csv('train.csv')\n",
        "print(train.head())\n",
        "train.columns"
      ],
      "execution_count": 0,
      "outputs": [
        {
          "output_type": "stream",
          "text": [
            "  image_names  emergency_or_not\n",
            "0    1503.jpg                 0\n",
            "1    1420.jpg                 0\n",
            "2    1764.jpg                 0\n",
            "3    1356.jpg                 0\n",
            "4    1117.jpg                 0\n"
          ],
          "name": "stdout"
        },
        {
          "output_type": "execute_result",
          "data": {
            "text/plain": [
              "Index(['image_names', 'emergency_or_not'], dtype='object')"
            ]
          },
          "metadata": {
            "tags": []
          },
          "execution_count": 4
        }
      ]
    },
    {
      "cell_type": "code",
      "metadata": {
        "id": "xe4jd2SP-dyg",
        "colab_type": "code",
        "outputId": "2d1bb804-12f4-406c-8b7b-dc088ff805c3",
        "colab": {
          "base_uri": "https://localhost:8080/",
          "height": 35
        }
      },
      "source": [
        "%cd /content/drive/My Drive/ComputerVision/images/"
      ],
      "execution_count": 0,
      "outputs": [
        {
          "output_type": "stream",
          "text": [
            "/content/drive/My Drive/ComputerVision/images\n"
          ],
          "name": "stdout"
        }
      ]
    },
    {
      "cell_type": "code",
      "metadata": {
        "id": "HkJhffff-iuN",
        "colab_type": "code",
        "outputId": "0ce9cada-1d9f-458c-9857-60ad9898c561",
        "colab": {
          "base_uri": "https://localhost:8080/",
          "height": 35
        }
      },
      "source": [
        "train_image = []\n",
        "for i in tqdm(range(train.shape[0])):\n",
        "    img = image.load_img('/content/drive/My Drive/ComputerVision/images/'+train['image_names'][i],target_size=(224,224,3))\n",
        "    img = image.img_to_array(img)\n",
        "    img = img/255\n",
        "    train_image.append(img)\n",
        "X = np.array(train_image)"
      ],
      "execution_count": 0,
      "outputs": [
        {
          "output_type": "stream",
          "text": [
            "100%|██████████| 1646/1646 [00:05<00:00, 301.36it/s]\n"
          ],
          "name": "stderr"
        }
      ]
    },
    {
      "cell_type": "code",
      "metadata": {
        "id": "lRO56sBE-oyX",
        "colab_type": "code",
        "outputId": "5c3a4b23-a975-4d41-e0a1-41c5ebb63607",
        "colab": {
          "base_uri": "https://localhost:8080/",
          "height": 146
        }
      },
      "source": [
        "y = np.array(train.drop('image_names',axis=1))\n",
        "print(y)"
      ],
      "execution_count": 0,
      "outputs": [
        {
          "output_type": "stream",
          "text": [
            "[[0]\n",
            " [0]\n",
            " [0]\n",
            " ...\n",
            " [0]\n",
            " [0]\n",
            " [1]]\n"
          ],
          "name": "stdout"
        }
      ]
    },
    {
      "cell_type": "code",
      "metadata": {
        "id": "EDCJMzNT-qDX",
        "colab_type": "code",
        "colab": {}
      },
      "source": [
        "X_train, X_test, y_train, y_test = train_test_split(X, y, random_state=42, test_size=0.2)"
      ],
      "execution_count": 0,
      "outputs": []
    },
    {
      "cell_type": "code",
      "metadata": {
        "id": "chD5zNcu-7aZ",
        "colab_type": "code",
        "colab": {}
      },
      "source": [
        "model = Sequential()\n",
        "model.add(Conv2D(filters=16, kernel_size=(5, 5), activation=\"relu\", input_shape=(224,224,3)))\n",
        "model.add(MaxPooling2D(pool_size=(2, 2)))\n",
        "model.add(Dropout(0.25))\n",
        "model.add(Conv2D(filters=32, kernel_size=(5, 5), activation='relu'))\n",
        "model.add(MaxPooling2D(pool_size=(2, 2)))\n",
        "model.add(Dropout(0.25))\n",
        "model.add(Conv2D(filters=64, kernel_size=(5, 5), activation=\"relu\"))\n",
        "model.add(MaxPooling2D(pool_size=(2, 2)))\n",
        "model.add(Dropout(0.25))\n",
        "model.add(Conv2D(filters=64, kernel_size=(5, 5), activation='relu'))\n",
        "model.add(MaxPooling2D(pool_size=(2, 2)))\n",
        "model.add(Dropout(0.25))\n",
        "model.add(Flatten())\n",
        "model.add(Dense(128, activation='relu'))\n",
        "model.add(Dropout(0.5))\n",
        "model.add(Dense(64, activation='relu'))\n",
        "model.add(Dropout(0.5))\n",
        "model.add(Dense(1, activation='sigmoid'))"
      ],
      "execution_count": 0,
      "outputs": []
    },
    {
      "cell_type": "code",
      "metadata": {
        "id": "tSvkItrJ-_2e",
        "colab_type": "code",
        "outputId": "f91e630d-f771-4b4f-9aa5-14bc7ceb8b4c",
        "colab": {
          "base_uri": "https://localhost:8080/",
          "height": 825
        }
      },
      "source": [
        "model.summary()"
      ],
      "execution_count": 0,
      "outputs": [
        {
          "output_type": "stream",
          "text": [
            "Model: \"sequential_2\"\n",
            "_________________________________________________________________\n",
            "Layer (type)                 Output Shape              Param #   \n",
            "=================================================================\n",
            "conv2d_2 (Conv2D)            (None, 220, 220, 16)      1216      \n",
            "_________________________________________________________________\n",
            "max_pooling2d_2 (MaxPooling2 (None, 110, 110, 16)      0         \n",
            "_________________________________________________________________\n",
            "dropout_3 (Dropout)          (None, 110, 110, 16)      0         \n",
            "_________________________________________________________________\n",
            "conv2d_3 (Conv2D)            (None, 106, 106, 32)      12832     \n",
            "_________________________________________________________________\n",
            "max_pooling2d_3 (MaxPooling2 (None, 53, 53, 32)        0         \n",
            "_________________________________________________________________\n",
            "dropout_4 (Dropout)          (None, 53, 53, 32)        0         \n",
            "_________________________________________________________________\n",
            "conv2d_4 (Conv2D)            (None, 49, 49, 64)        51264     \n",
            "_________________________________________________________________\n",
            "max_pooling2d_4 (MaxPooling2 (None, 24, 24, 64)        0         \n",
            "_________________________________________________________________\n",
            "dropout_5 (Dropout)          (None, 24, 24, 64)        0         \n",
            "_________________________________________________________________\n",
            "conv2d_5 (Conv2D)            (None, 20, 20, 64)        102464    \n",
            "_________________________________________________________________\n",
            "max_pooling2d_5 (MaxPooling2 (None, 10, 10, 64)        0         \n",
            "_________________________________________________________________\n",
            "dropout_6 (Dropout)          (None, 10, 10, 64)        0         \n",
            "_________________________________________________________________\n",
            "flatten_2 (Flatten)          (None, 6400)              0         \n",
            "_________________________________________________________________\n",
            "dense_3 (Dense)              (None, 128)               819328    \n",
            "_________________________________________________________________\n",
            "dropout_7 (Dropout)          (None, 128)               0         \n",
            "_________________________________________________________________\n",
            "dense_4 (Dense)              (None, 64)                8256      \n",
            "_________________________________________________________________\n",
            "dropout_8 (Dropout)          (None, 64)                0         \n",
            "_________________________________________________________________\n",
            "dense_5 (Dense)              (None, 1)                 65        \n",
            "=================================================================\n",
            "Total params: 995,425\n",
            "Trainable params: 995,425\n",
            "Non-trainable params: 0\n",
            "_________________________________________________________________\n"
          ],
          "name": "stdout"
        }
      ]
    },
    {
      "cell_type": "code",
      "metadata": {
        "id": "DFAT7DEw_Czz",
        "colab_type": "code",
        "colab": {}
      },
      "source": [
        "model.compile(optimizer='adam', loss='binary_crossentropy', metrics=['accuracy'])"
      ],
      "execution_count": 0,
      "outputs": []
    },
    {
      "cell_type": "code",
      "metadata": {
        "id": "scP9DKVa_FtR",
        "colab_type": "code",
        "outputId": "14263b85-cb1c-402a-a16b-6712a5e564ed",
        "colab": {
          "base_uri": "https://localhost:8080/",
          "height": 421
        }
      },
      "source": [
        "model.fit(X_train, y_train, epochs=10, validation_data=(X_test, y_test), batch_size=64)"
      ],
      "execution_count": 0,
      "outputs": [
        {
          "output_type": "stream",
          "text": [
            "Train on 1316 samples, validate on 330 samples\n",
            "Epoch 1/10\n",
            "1316/1316 [==============================] - 113s 86ms/step - loss: 0.6948 - accuracy: 0.5540 - val_loss: 0.6835 - val_accuracy: 0.6000\n",
            "Epoch 2/10\n",
            "1316/1316 [==============================] - 110s 84ms/step - loss: 0.6827 - accuracy: 0.5760 - val_loss: 0.6835 - val_accuracy: 0.6000\n",
            "Epoch 3/10\n",
            "1316/1316 [==============================] - 112s 85ms/step - loss: 0.6748 - accuracy: 0.5813 - val_loss: 0.6567 - val_accuracy: 0.6000\n",
            "Epoch 4/10\n",
            "1316/1316 [==============================] - 115s 87ms/step - loss: 0.6461 - accuracy: 0.6360 - val_loss: 0.6288 - val_accuracy: 0.6909\n",
            "Epoch 5/10\n",
            "1316/1316 [==============================] - 111s 84ms/step - loss: 0.6169 - accuracy: 0.6763 - val_loss: 0.5932 - val_accuracy: 0.6697\n",
            "Epoch 6/10\n",
            "1316/1316 [==============================] - 111s 85ms/step - loss: 0.6105 - accuracy: 0.7257 - val_loss: 0.5375 - val_accuracy: 0.7848\n",
            "Epoch 7/10\n",
            "1316/1316 [==============================] - 111s 84ms/step - loss: 0.5126 - accuracy: 0.7606 - val_loss: 0.4861 - val_accuracy: 0.7909\n",
            "Epoch 8/10\n",
            "1316/1316 [==============================] - 111s 85ms/step - loss: 0.4687 - accuracy: 0.7895 - val_loss: 0.4723 - val_accuracy: 0.7667\n",
            "Epoch 9/10\n",
            "1316/1316 [==============================] - 112s 85ms/step - loss: 0.4352 - accuracy: 0.8032 - val_loss: 0.4281 - val_accuracy: 0.7879\n",
            "Epoch 10/10\n",
            "1316/1316 [==============================] - 113s 86ms/step - loss: 0.4075 - accuracy: 0.8017 - val_loss: 0.4257 - val_accuracy: 0.8000\n"
          ],
          "name": "stdout"
        },
        {
          "output_type": "execute_result",
          "data": {
            "text/plain": [
              "<keras.callbacks.callbacks.History at 0x7f2aba239c18>"
            ]
          },
          "metadata": {
            "tags": []
          },
          "execution_count": 13
        }
      ]
    },
    {
      "cell_type": "code",
      "metadata": {
        "id": "eETEIqzZ_Jbn",
        "colab_type": "code",
        "outputId": "56121ff3-7986-46ca-dd32-cacf28a22f37",
        "colab": {
          "base_uri": "https://localhost:8080/",
          "height": 72
        }
      },
      "source": [
        "score = model.evaluate(X_test,y_test,batch_size=64,verbose=1)\n",
        "print(\"Test Score\",score[0])\n",
        "print(\"Test accuracy\",score[1])"
      ],
      "execution_count": 0,
      "outputs": [
        {
          "output_type": "stream",
          "text": [
            "330/330 [==============================] - 7s 21ms/step\n",
            "Test Score 0.4256580219124303\n",
            "Test accuracy 0.800000011920929\n"
          ],
          "name": "stdout"
        }
      ]
    },
    {
      "cell_type": "code",
      "metadata": {
        "id": "4tizWw0cE_uJ",
        "colab_type": "code",
        "outputId": "66b863e3-330d-4403-82ec-540546f462c2",
        "colab": {
          "base_uri": "https://localhost:8080/",
          "height": 54
        }
      },
      "source": [
        "%cd /content/drive/My\\ Drive/ComputerVision/\n",
        "! ls"
      ],
      "execution_count": 0,
      "outputs": [
        {
          "output_type": "stream",
          "text": [
            "/content/drive/My Drive/ComputerVision\n",
            "images\tsample_submission.csv  submission.csv  test.csv  train.csv\n"
          ],
          "name": "stdout"
        }
      ]
    },
    {
      "cell_type": "code",
      "metadata": {
        "id": "dne6N41EFHt_",
        "colab_type": "code",
        "outputId": "e9d35d9c-1094-4c13-f6fc-c851c0b11a1d",
        "colab": {
          "base_uri": "https://localhost:8080/",
          "height": 127
        }
      },
      "source": [
        "test = pd.read_csv('test.csv')\n",
        "print(test.head())"
      ],
      "execution_count": 0,
      "outputs": [
        {
          "output_type": "stream",
          "text": [
            "  image_names\n",
            "0    1960.jpg\n",
            "1     668.jpg\n",
            "2    2082.jpg\n",
            "3     808.jpg\n",
            "4    1907.jpg\n"
          ],
          "name": "stdout"
        }
      ]
    },
    {
      "cell_type": "code",
      "metadata": {
        "id": "9DqbEVTBFNyY",
        "colab_type": "code",
        "outputId": "b79bb338-01d8-4e20-d4a6-a91822fd46ec",
        "colab": {
          "base_uri": "https://localhost:8080/",
          "height": 35
        }
      },
      "source": [
        "test_image = []\n",
        "for i in tqdm(range(test.shape[0])):\n",
        "    img = image.load_img('/content/drive/My Drive/ComputerVision/images/'+test['image_names'][i],target_size=(224,224,3))\n",
        "    img = image.img_to_array(img)\n",
        "    img = img/255\n",
        "    test_image.append(img)\n",
        "X = np.array(test_image)"
      ],
      "execution_count": 0,
      "outputs": [
        {
          "output_type": "stream",
          "text": [
            "100%|██████████| 706/706 [02:35<00:00,  4.54it/s]\n"
          ],
          "name": "stderr"
        }
      ]
    },
    {
      "cell_type": "code",
      "metadata": {
        "id": "zJCTUrDLFUx6",
        "colab_type": "code",
        "outputId": "f3d818d2-45d0-4f95-b80b-59d9f3dcc6f3",
        "colab": {
          "base_uri": "https://localhost:8080/",
          "height": 127
        }
      },
      "source": [
        "prediction = model.predict_classes(X)\n",
        "test['emergency_or_not'] = prediction\n",
        "print(test.head())"
      ],
      "execution_count": 0,
      "outputs": [
        {
          "output_type": "stream",
          "text": [
            "  image_names  emergency_or_not\n",
            "0    1960.jpg                 0\n",
            "1     668.jpg                 1\n",
            "2    2082.jpg                 0\n",
            "3     808.jpg                 1\n",
            "4    1907.jpg                 0\n"
          ],
          "name": "stdout"
        }
      ]
    },
    {
      "cell_type": "code",
      "metadata": {
        "id": "clicRdj5FYwK",
        "colab_type": "code",
        "colab": {}
      },
      "source": [
        "submission = pd.read_csv('sample_submission.csv')\n",
        "submission['emergency_or_not'] = prediction"
      ],
      "execution_count": 0,
      "outputs": []
    },
    {
      "cell_type": "code",
      "metadata": {
        "id": "mQPqtOqjFclp",
        "colab_type": "code",
        "colab": {}
      },
      "source": [
        "submission.to_csv('submission1.csv',index=False)"
      ],
      "execution_count": 0,
      "outputs": []
    }
  ]
}